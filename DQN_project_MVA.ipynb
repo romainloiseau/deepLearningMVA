{
 "cells": [
  {
   "cell_type": "markdown",
   "metadata": {},
   "source": [
    "**You may need to install [OpenCV](https://pypi.python.org/pypi/opencv-python) and [scikit-video](http://www.scikit-video.org/stable/).**"
   ]
  },
  {
   "cell_type": "code",
   "execution_count": 1,
   "metadata": {},
   "outputs": [
    {
     "name": "stderr",
     "output_type": "stream",
     "text": [
      "Using TensorFlow backend.\n"
     ]
    }
   ],
   "source": [
    "import keras\n",
    "import numpy as np\n",
    "import io\n",
    "import base64\n",
    "from IPython.display import HTML\n",
    "import skvideo\n",
    "skvideo.setFFmpegPath('ffmpeg-4.1-win64-static/bin/')\n",
    "import skvideo.io\n",
    "import cv2\n",
    "import json\n",
    "\n",
    "from keras.models import Sequential, model_from_json\n",
    "from keras.layers.core import Dense\n",
    "from keras.optimizers import sgd\n",
    "from keras.layers import Conv2D, MaxPooling2D, Activation, AveragePooling2D, Reshape, BatchNormalization"
   ]
  },
  {
   "cell_type": "markdown",
   "metadata": {},
   "source": [
    "# MiniProject #3: Deep Reinforcement Learning"
   ]
  },
  {
   "cell_type": "markdown",
   "metadata": {},
   "source": [
    "__Notations__: $E_p$ is the expectation under probability $p$. Please justify each of your answer and widely comment your code."
   ]
  },
  {
   "cell_type": "markdown",
   "metadata": {},
   "source": [
    "# Context"
   ]
  },
  {
   "cell_type": "markdown",
   "metadata": {},
   "source": [
    "In a reinforcement learning algorithm, we modelize each step $t$ as an action $a_t$ obtained from a state $s_t$, i.e. $\\{(a_{t},s_{t})_{t\\leq T}\\}$ having the Markov property. We consider a discount factor $\\gamma \\in [0,1]$ that ensures convergence. The goal is to find among all the policies $\\pi$, one that maximizes the expected reward:\n",
    "\n",
    "\\begin{equation*}\n",
    "R(\\pi)=\\sum_{t\\leq T}E_{p^{\\pi}}[\\gamma^t r(s_{t},a_{t})] \\> ,\n",
    "\\end{equation*}\n",
    "\n",
    "where: \n",
    "\\begin{equation*}p^{\\pi}(a_{0},a_{1},s_{1},...,a_{T},s_{T})=p(a_{0})\\prod_{t=1}^{T}\\pi(a_{t}|s_{t})p(s_{t+1}|s_{t},a_{t}) \\> .\n",
    "\\end{equation*}\n",
    "\n",
    "We note the $Q$-function:\n",
    "\n",
    "\\begin{equation*}Q^\\pi(s,a)=E_{p^{\\pi}}[\\sum_{t\\leq T}\\gamma^{t}r(s_{t},a_{t})|s_{0}=s,a_{0}=a] \\> .\n",
    "\\end{equation*}\n",
    "\n",
    "Thus, the optimal Q function is:\n",
    "\\begin{equation*}\n",
    "Q^*(s,a)=\\max_{\\pi}Q^\\pi(s,a) \\> .\n",
    "\\end{equation*}\n",
    "\n",
    "In this project, we will apply the deep reinforcement learning techniques to a simple game: an agent will have to learn from scratch a policy that will permit it maximizing a reward."
   ]
  },
  {
   "cell_type": "markdown",
   "metadata": {},
   "source": [
    "## The environment, the agent and the game"
   ]
  },
  {
   "cell_type": "markdown",
   "metadata": {},
   "source": [
    "### The environment"
   ]
  },
  {
   "cell_type": "markdown",
   "metadata": {},
   "source": [
    "```Environment``` is an abstract class that represents the states, rewards, and actions to obtain the new state."
   ]
  },
  {
   "cell_type": "code",
   "execution_count": 2,
   "metadata": {},
   "outputs": [],
   "source": [
    "class Environment(object):\n",
    "    def __init__(self):\n",
    "        pass\n",
    "\n",
    "    def act(self, act):\n",
    "        \"\"\"\n",
    "        One can act on the environment and obtain its reaction:\n",
    "        - the new state\n",
    "        - the reward of the new state\n",
    "        - should we continue the game?\n",
    "\n",
    "        :return: state, reward, game_over\n",
    "        \"\"\"\n",
    "        pass\n",
    "\n",
    "\n",
    "    def reset(self):\n",
    "        \"\"\"\n",
    "        Reinitialize the environment to a random state and returns\n",
    "        the original state\n",
    "\n",
    "        :return: state\n",
    "        \"\"\"\n",
    "        pass\n",
    "    \n",
    "    def draw(self):\n",
    "        \"\"\"\n",
    "        Visualize in the console or graphically the current state\n",
    "        \"\"\"\n",
    "        pass"
   ]
  },
  {
   "cell_type": "markdown",
   "metadata": {},
   "source": [
    "The method ```act``` allows to act on the environment at a given state $s_t$ (stored internally), via action $a_t$. The method will return the new state $s_{t+1}$, the reward $r(s_{t},a_{t})$ and determines if $t\\leq T$ (*game_over*).\n",
    "\n",
    "The method ```reset``` simply reinitializes the environment to a random state $s_0$.\n",
    "\n",
    "The method ```draw``` displays the current state $s_t$ (this is useful to check the behavior of the Agent).\n",
    "\n",
    "We modelize $s_t$ as a tensor, while $a_t$ is an integer."
   ]
  },
  {
   "cell_type": "markdown",
   "metadata": {},
   "source": [
    "### The Agent"
   ]
  },
  {
   "cell_type": "markdown",
   "metadata": {},
   "source": [
    "The goal of the ```Agent``` is to interact with the ```Environment``` by proposing actions $a_t$ obtained from a given state $s_t$ to attempt to maximize its __reward__ $r(s_t,a_t)$. We propose the following abstract class:"
   ]
  },
  {
   "cell_type": "code",
   "execution_count": 3,
   "metadata": {},
   "outputs": [],
   "source": [
    "class Agent(object):\n",
    "    def __init__(self, epsilon=0.1, n_action=4):\n",
    "        self.epsilon = epsilon\n",
    "        self.n_action = n_action\n",
    "    \n",
    "    def set_epsilon(self,e):\n",
    "        self.epsilon = e\n",
    "\n",
    "    def act(self,s,train=True):\n",
    "        \"\"\" This function should return the next action to do:\n",
    "        an integer between 0 and 4 (not included) with a random exploration of epsilon\"\"\"\n",
    "        if train:\n",
    "            if np.random.rand() <= self.epsilon:\n",
    "                a = np.random.randint(0, self.n_action, size=1)[0]\n",
    "            else:\n",
    "                a = self.learned_act(s)\n",
    "        else: # in some cases, this can improve the performance.. remove it if poor performances\n",
    "            a = self.learned_act(s)\n",
    "\n",
    "        return a\n",
    "\n",
    "    def learned_act(self,s):\n",
    "        \"\"\" Act via the policy of the agent, from a given state s\n",
    "        it proposes an action a\"\"\"\n",
    "        pass\n",
    "\n",
    "    def reinforce(self, s, n_s, a, r, game_over_):\n",
    "        \"\"\" This function is the core of the learning algorithm. \n",
    "        It takes as an input the current state s_, the next state n_s_\n",
    "        the action a_ used to move from s_ to n_s_ and the reward r_.\n",
    "        \n",
    "        Its goal is to learn a policy.\n",
    "        \"\"\"\n",
    "        pass\n",
    "\n",
    "    def save(self):\n",
    "        \"\"\" This function returns basic stats if applicable: the\n",
    "        loss and/or the model\"\"\"\n",
    "        pass\n",
    "\n",
    "    def load(self):\n",
    "        \"\"\" This function allows to restore a model\"\"\"\n",
    "        pass"
   ]
  },
  {
   "cell_type": "markdown",
   "metadata": {},
   "source": [
    "***\n",
    "__Question 1__:\n",
    "Explain the function act. Why is ```epsilon``` essential?"
   ]
  },
  {
   "cell_type": "markdown",
   "metadata": {},
   "source": [
    "> The function act returns the next action to do. It will often return the learned action from previous states, but sometimes, with a probability epsilon, it will return a random action. It will allow the agent to randomly explore the states."
   ]
  },
  {
   "cell_type": "markdown",
   "metadata": {},
   "source": [
    "***\n",
    "### The Game"
   ]
  },
  {
   "cell_type": "markdown",
   "metadata": {},
   "source": [
    "The ```Agent``` and the ```Environment``` work in an interlaced way as in the following (take some time to understand this code as it is the core of the project)\n",
    "\n",
    "```python\n",
    "\n",
    "epoch = 300\n",
    "env = Environment()\n",
    "agent = Agent()\n",
    "\n",
    "\n",
    "# Number of won games\n",
    "score = 0\n",
    "loss = 0\n",
    "\n",
    "\n",
    "for e in range(epoch):\n",
    "    # At each epoch, we restart to a fresh game and get the initial state\n",
    "    state = env.reset()\n",
    "    # This assumes that the games will end\n",
    "    game_over = False\n",
    "\n",
    "    win = 0\n",
    "    lose = 0\n",
    "    \n",
    "    while not game_over:\n",
    "        # The agent performs an action\n",
    "        action = agent.act(state)\n",
    "\n",
    "        # Apply an action to the environment, get the next state, the reward\n",
    "        # and if the games end\n",
    "        prev_state = state\n",
    "        state, reward, game_over = env.act(action)\n",
    "\n",
    "        # Update the counters\n",
    "        if reward > 0:\n",
    "            win = win + reward\n",
    "        if reward < 0:\n",
    "            lose = lose -reward\n",
    "\n",
    "        # Apply the reinforcement strategy\n",
    "        loss = agent.reinforce(prev_state, state,  action, reward, game_over)\n",
    "\n",
    "    # Save as a mp4\n",
    "    if e % 10 == 0:\n",
    "        env.draw(e)\n",
    "\n",
    "    # Update stats\n",
    "    score += win-lose\n",
    "\n",
    "    print(\"Epoch {:03d}/{:03d} | Loss {:.4f} | Win/lose count {}/{} ({})\"\n",
    "          .format(e, epoch, loss, win, lose, win-lose))\n",
    "    agent.save()\n",
    "```"
   ]
  },
  {
   "cell_type": "markdown",
   "metadata": {},
   "source": [
    "# The game, *eat cheese*"
   ]
  },
  {
   "cell_type": "markdown",
   "metadata": {},
   "source": [
    "A rat runs on an island and tries to eat as much as possible. The island is subdivided into $N\\times N$ cells, in which there are cheese (+0.5) and poisonous cells (-1). The rat has a visibility of 2 cells (thus it can see $5^2$ cells). The rat is given a time $T$ to accumulate as much food as possible. It can perform 4 actions: going up, down, left, right. \n",
    "\n",
    "The goal is to code an agent to solve this task that will learn by trial and error. We propose the following environment:"
   ]
  },
  {
   "cell_type": "code",
   "execution_count": 4,
   "metadata": {},
   "outputs": [],
   "source": [
    "class Environment(object):\n",
    "    def __init__(self, grid_size=10, max_time=500, temperature=0.1):\n",
    "        grid_size = grid_size+4\n",
    "        self.grid_size = grid_size\n",
    "        self.max_time = max_time\n",
    "        self.temperature = temperature\n",
    "\n",
    "        #board on which one plays\n",
    "        self.board = np.zeros((grid_size,grid_size))\n",
    "        self.position = np.zeros((grid_size,grid_size))\n",
    "\n",
    "        # coordinate of the cat\n",
    "        self.x = 0\n",
    "        self.y = 1\n",
    "\n",
    "        # self time\n",
    "        self.t = 0\n",
    "\n",
    "        self.scale=16\n",
    "\n",
    "        self.to_draw = np.zeros((max_time+2, grid_size*self.scale, grid_size*self.scale, 3))\n",
    "\n",
    "\n",
    "    def draw(self,e):\n",
    "        skvideo.io.vwrite(str(e) + '.mp4', self.to_draw)\n",
    "\n",
    "    def get_frame(self,t):\n",
    "        b = np.zeros((self.grid_size,self.grid_size,3))+128\n",
    "        b[self.board>0,0] = 256\n",
    "        b[self.board < 0, 2] = 256\n",
    "        b[self.x,self.y,:]=256\n",
    "        b[-2:,:,:]=0\n",
    "        b[:,-2:,:]=0\n",
    "        b[:2,:,:]=0\n",
    "        b[:,:2,:]=0\n",
    "        \n",
    "        b =  cv2.resize(b, None, fx=self.scale, fy=self.scale, interpolation=cv2.INTER_NEAREST)\n",
    "\n",
    "        self.to_draw[t,:,:,:]=b\n",
    "\n",
    "\n",
    "    def act(self, action):\n",
    "        \"\"\"This function returns the new state, reward and decides if the\n",
    "        game ends.\"\"\"\n",
    "\n",
    "        self.get_frame(int(self.t))\n",
    "\n",
    "        self.position = np.zeros((self.grid_size, self.grid_size))\n",
    "\n",
    "        self.position[0:2,:]= -1\n",
    "        self.position[:,0:2] = -1\n",
    "        self.position[-2:, :] = -1\n",
    "        self.position[-2:, :] = -1\n",
    "\n",
    "        self.position[self.x, self.y] = 1\n",
    "        if action == 0:\n",
    "            if self.x == self.grid_size-3:\n",
    "                self.x = self.x-1\n",
    "            else:\n",
    "                self.x = self.x + 1\n",
    "        elif action == 1:\n",
    "            if self.x == 2:\n",
    "                self.x = self.x+1\n",
    "            else:\n",
    "                self.x = self.x-1\n",
    "        elif action == 2:\n",
    "            if self.y == self.grid_size - 3:\n",
    "                self.y = self.y - 1\n",
    "            else:\n",
    "                self.y = self.y + 1\n",
    "        elif action == 3:\n",
    "            if self.y == 2:\n",
    "                self.y = self.y + 1\n",
    "            else:\n",
    "                self.y = self.y - 1\n",
    "        else:\n",
    "            RuntimeError('Error: action not recognized')\n",
    "\n",
    "        self.t = self.t + 1\n",
    "        reward = self.board[self.x, self.y]\n",
    "        self.board[self.x, self.y] = 0\n",
    "        game_over = self.t > self.max_time\n",
    "        state = np.concatenate((self.board.reshape(self.grid_size, self.grid_size,1),\n",
    "                        self.position.reshape(self.grid_size, self.grid_size,1)),axis=2)\n",
    "        state = state[self.x-2:self.x+3,self.y-2:self.y+3,:]\n",
    "\n",
    "        return state, reward, game_over\n",
    "\n",
    "    def reset(self):\n",
    "        \"\"\"This function resets the game and returns the initial state\"\"\"\n",
    "\n",
    "        self.x = np.random.randint(3, self.grid_size-3, size=1)[0]\n",
    "        self.y = np.random.randint(3, self.grid_size-3, size=1)[0]\n",
    "\n",
    "\n",
    "        bonus = 0.5*np.random.binomial(1,self.temperature,size=self.grid_size**2)\n",
    "        bonus = bonus.reshape(self.grid_size,self.grid_size)\n",
    "\n",
    "        malus = -1.0*np.random.binomial(1,self.temperature,size=self.grid_size**2)\n",
    "        malus = malus.reshape(self.grid_size, self.grid_size)\n",
    "\n",
    "        self.to_draw = np.zeros((self.max_time+2, self.grid_size*self.scale, self.grid_size*self.scale, 3))\n",
    "\n",
    "\n",
    "        malus[bonus>0]=0\n",
    "\n",
    "        self.board = bonus + malus\n",
    "\n",
    "        self.position = np.zeros((self.grid_size, self.grid_size))\n",
    "        self.position[0:2,:]= -1\n",
    "        self.position[:,0:2] = -1\n",
    "        self.position[-2:, :] = -1\n",
    "        self.position[-2:, :] = -1\n",
    "        self.board[self.x,self.y] = 0\n",
    "        self.t = 0\n",
    "\n",
    "        state = np.concatenate((\n",
    "                               self.board.reshape(self.grid_size, self.grid_size,1),\n",
    "                        self.position.reshape(self.grid_size, self.grid_size,1)),axis=2)\n",
    "\n",
    "        state = state[self.x - 2:self.x + 3, self.y - 2:self.y + 3, :]\n",
    "        return state"
   ]
  },
  {
   "cell_type": "markdown",
   "metadata": {},
   "source": [
    "The following elements are important because they correspond to the hyper parameters for this project:"
   ]
  },
  {
   "cell_type": "code",
   "execution_count": 5,
   "metadata": {},
   "outputs": [],
   "source": [
    "# parameters\n",
    "size = 13\n",
    "T=200\n",
    "temperature=0.3\n",
    "epochs_train=30 # set small when debugging\n",
    "epochs_test=10 # set small when debugging\n",
    "\n",
    "# display videos\n",
    "def display_videos(name):\n",
    "    video = io.open(name, 'r+b').read()\n",
    "    encoded = base64.b64encode(video)\n",
    "    return '''<video alt=\"test\" controls>\n",
    "                <source src=\"data:video/mp4;base64,{0}\" type=\"video/mp4\" />\n",
    "             </video>'''.format(encoded.decode('ascii'))"
   ]
  },
  {
   "cell_type": "markdown",
   "metadata": {},
   "source": [
    "__Question 2__ Explain the use of the arrays ```position``` and ```board```."
   ]
  },
  {
   "cell_type": "markdown",
   "metadata": {},
   "source": []
  },
  {
   "cell_type": "markdown",
   "metadata": {},
   "source": [
    "## Random Agent"
   ]
  },
  {
   "cell_type": "markdown",
   "metadata": {},
   "source": [
    "***\n",
    "__Question 3__ Implement a random Agent (only ```learned_act``` needs to be implemented):"
   ]
  },
  {
   "cell_type": "code",
   "execution_count": 6,
   "metadata": {},
   "outputs": [],
   "source": [
    "class RandomAgent(Agent):\n",
    "    def __init__(self):\n",
    "        super(RandomAgent, self).__init__()\n",
    "        pass\n",
    "\n",
    "    def learned_act(self, s):\n",
    "        return np.random.randint(4)"
   ]
  },
  {
   "cell_type": "markdown",
   "metadata": {},
   "source": [
    "***\n",
    "***\n",
    "__Question 4__ Visualize the game moves. You need to fill in the following function for the evaluation:"
   ]
  },
  {
   "cell_type": "code",
   "execution_count": 7,
   "metadata": {},
   "outputs": [],
   "source": [
    "def test(agent,env,epochs,prefix=''):\n",
    "    # Number of won games\n",
    "    score = 0\n",
    "        \n",
    "    for e in range(epochs):\n",
    "        \n",
    "        # At each epoch, we restart to a fresh game and get the initial state\n",
    "        state = env.reset()\n",
    "        # This assumes that the games will end\n",
    "        game_over = False\n",
    "\n",
    "        win = 0\n",
    "        lose = 0\n",
    "    \n",
    "        while not game_over:\n",
    "            # The agent performs an action\n",
    "            action = agent.act(state)\n",
    "    \n",
    "            # Apply an action to the environment, get the next state, the reward\n",
    "            # and if the games end\n",
    "            prev_state = state\n",
    "            state, reward, game_over = env.act(action)\n",
    "\n",
    "            # Update the counters\n",
    "            if reward > 0:\n",
    "                win = win + reward\n",
    "            if reward < 0:\n",
    "                lose = lose - reward\n",
    "                \n",
    "            # Apply the reinforcement strategy\n",
    "            loss = agent.reinforce(prev_state, state,  action, reward, game_over)\n",
    "       \n",
    "        # Save as a mp4\n",
    "        env.draw(prefix+str(e))\n",
    "\n",
    "        # Update stats\n",
    "        score = score + win-lose\n",
    "\n",
    "        print(\"Win/lose count {}/{}. Average score ({})\"\n",
    "              .format(win, lose, score/(1+e)))\n",
    "    print('Final score: '+str(score/epochs))"
   ]
  },
  {
   "cell_type": "code",
   "execution_count": 8,
   "metadata": {
    "scrolled": false
   },
   "outputs": [
    {
     "name": "stdout",
     "output_type": "stream",
     "text": [
      "Win/lose count 15.5/12.0. Average score (3.5)\n",
      "Win/lose count 4.5/19.0. Average score (-5.5)\n",
      "Win/lose count 12.5/20.0. Average score (-6.166666666666667)\n",
      "Win/lose count 9.0/14.0. Average score (-5.875)\n",
      "Win/lose count 10.5/12.0. Average score (-5.0)\n",
      "Win/lose count 10.0/18.0. Average score (-5.5)\n",
      "Win/lose count 8.0/13.0. Average score (-5.428571428571429)\n",
      "Win/lose count 8.5/18.0. Average score (-5.9375)\n",
      "Win/lose count 12.0/11.0. Average score (-5.166666666666667)\n",
      "Win/lose count 12.5/8.0. Average score (-4.2)\n",
      "Final score: -4.2\n"
     ]
    },
    {
     "data": {
      "text/html": [
       "<video alt=\"test\" controls>\n",
       "                <source src=\"data:video/mp4;base64,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\" type=\"video/mp4\" />\n",
       "             </video>"
      ],
      "text/plain": [
       "<IPython.core.display.HTML object>"
      ]
     },
     "execution_count": 8,
     "metadata": {},
     "output_type": "execute_result"
    }
   ],
   "source": [
    "# Initialize the game\n",
    "env = Environment(grid_size=size, max_time=T,temperature=temperature)\n",
    "\n",
    "# Initialize the agent!\n",
    "agent = RandomAgent()\n",
    "\n",
    "test(agent,env,epochs_test,prefix='random')\n",
    "HTML(display_videos('random0.mp4'))"
   ]
  },
  {
   "cell_type": "markdown",
   "metadata": {},
   "source": [
    "***\n",
    "## DQN"
   ]
  },
  {
   "cell_type": "markdown",
   "metadata": {},
   "source": [
    "Let us assume here that $T=\\infty$.\n",
    "\n",
    "***\n",
    "__Question 5__ Let $\\pi$ be a policy, show that:\n",
    "\n",
    "\\begin{equation*}\n",
    "Q^{\\pi}(s,a)=E_{(s',a')\\sim p(.|s,a)}[r(s,a)+\\gamma Q^{\\pi}(s',a')]\n",
    "\\end{equation*}\n",
    "\n",
    "Then, show that for the optimal policy $\\pi^*$ (we assume its existence), the following holds: \n",
    "\n",
    "\\begin{equation*}\n",
    "Q^{*}(s,a)=E_{s'\\sim \\pi^*(.|s,a)}[r(s,a)+\\gamma\\max_{a'}Q^{*}(s',a')].\n",
    "\\end{equation*}\n",
    "Finally, deduce that a plausible objective is:\n",
    "\n",
    "\\begin{equation*}\n",
    "\\mathcal{L}(\\theta)=E_{s' \\sim \\pi^*(.|s,a)}\\Vert r+\\gamma\\max\\max_{a'}Q(s',a',\\theta)-Q(s,a,\\theta)\\Vert^{2}.\n",
    "\\end{equation*}\n",
    "\n",
    "\n"
   ]
  },
  {
   "cell_type": "markdown",
   "metadata": {},
   "source": []
  },
  {
   "cell_type": "markdown",
   "metadata": {},
   "source": [
    "***\n",
    "The DQN-learning algorithm relies on these derivations to train the parameters $\\theta$ of a Deep Neural Network:\n",
    "\n",
    "1. At the state $s_t$, select the action $a_t$ with best reward using $Q_t$ and store the results;\n",
    "\n",
    "2. Obtain the new state $s_{t+1}$ from the environment $p$;\n",
    "\n",
    "3. Store $(s_t,a_t,s_{t+1})$;\n",
    "\n",
    "4. Obtain $Q_{t+1}$ by minimizing  $\\mathcal{L}$ from a recovered batch from the previously stored results.\n",
    "\n",
    "***\n",
    "__Question 6__ Implement the class ```Memory``` that stores moves (in a replay buffer) via ```remember``` and provides a ```random_access``` to these. Specify a maximum memory size to avoid side effects. You can for example use a ```list()``` and set by default ```max_memory=100```."
   ]
  },
  {
   "cell_type": "code",
   "execution_count": 9,
   "metadata": {},
   "outputs": [],
   "source": [
    "class Memory(object):\n",
    "    def __init__(self, max_memory=100):\n",
    "        self.max_memory = max_memory\n",
    "        self.memory = list()\n",
    "\n",
    "    def remember(self, m):\n",
    "        self.memory = self.memory[1-self.max_memory:] + [m]\n",
    "        \n",
    "    def random_access(self):\n",
    "        return self.memory[np.random.randint(len(self.memory))]"
   ]
  },
  {
   "cell_type": "markdown",
   "metadata": {},
   "source": [
    "***\n",
    "The pipeline we will use for training is given below:"
   ]
  },
  {
   "cell_type": "code",
   "execution_count": 10,
   "metadata": {},
   "outputs": [],
   "source": [
    "def train(agent,env,epoch,prefix=''):\n",
    "    # Number of won games\n",
    "    score = 0\n",
    "    loss = 0\n",
    "\n",
    "    for e in range(epoch):\n",
    "        # At each epoch, we restart to a fresh game and get the initial state\n",
    "        state = env.reset()\n",
    "        # This assumes that the games will terminate\n",
    "        game_over = False\n",
    "\n",
    "        win = 0\n",
    "        lose = 0\n",
    "\n",
    "        while not game_over:\n",
    "            # The agent performs an action\n",
    "            action = agent.act(state)\n",
    "\n",
    "            # Apply an action to the environment, get the next state, the reward\n",
    "            # and if the games end\n",
    "            prev_state = state\n",
    "            state, reward, game_over = env.act(action)\n",
    "\n",
    "            # Update the counters\n",
    "            if reward > 0:\n",
    "                win = win + reward\n",
    "            if reward < 0:\n",
    "                lose = lose -reward\n",
    "\n",
    "            # Apply the reinforcement strategy\n",
    "            loss = agent.reinforce(prev_state, state,  action, reward, game_over)\n",
    "\n",
    "        # Save as a mp4\n",
    "        if e % 10 == 0:\n",
    "            env.draw(prefix+str(e))\n",
    "\n",
    "        # Update stats\n",
    "        score += win-lose\n",
    "\n",
    "        print(\"Epoch {:03d}/{:03d} | Loss {:.4f} | Win/lose count {}/{} ({})\"\n",
    "              .format(e, epoch, loss, win, lose, win-lose))\n",
    "        agent.save(name_weights=prefix+'model.h5',name_model=prefix+'model.json')"
   ]
  },
  {
   "cell_type": "markdown",
   "metadata": {},
   "source": [
    "***\n",
    "__Question 7__ Implement the DQN training algorithm using a cascade of fully connected layers. You can use different learning rate, batch size or memory size parameters. In particular, the loss might oscillate while the player will start to win the games. You have to find a good criterium."
   ]
  },
  {
   "cell_type": "code",
   "execution_count": 11,
   "metadata": {},
   "outputs": [],
   "source": [
    "class DQN(Agent):\n",
    "    def __init__(self, grid_size,  epsilon = 0.1, memory_size=100, batch_size = 16, n_state=2):\n",
    "        super(DQN, self).__init__(epsilon = epsilon)\n",
    "\n",
    "        # Discount for Q learning\n",
    "        self.discount = 0.99\n",
    "        \n",
    "        self.grid_size = grid_size\n",
    "        \n",
    "        # number of state\n",
    "        self.n_state = n_state\n",
    "\n",
    "        # Memory\n",
    "        self.memory = Memory(memory_size)\n",
    "        \n",
    "        # Batch size when learning\n",
    "        self.batch_size = batch_size\n",
    "\n",
    "    def learned_act(self, s):\n",
    "        return np.argmax(self.model.predict(np.expand_dims(s, 0))[0])\n",
    "\n",
    "    def reinforce(self, s_, n_s_, a_, r_, game_over_):\n",
    "        # Two steps: first memorize the states, second learn from the pool\n",
    "\n",
    "        self.memory.remember([s_, n_s_, a_, r_, game_over_])\n",
    "        \n",
    "        input_states = np.zeros((self.batch_size, 5, 5, self.n_state))\n",
    "        target_q = np.zeros((self.batch_size, 4))\n",
    "        \n",
    "        for i in range(self.batch_size):\n",
    "            ######## FILL IN\n",
    "            s, n_s, a, r, game_over = self.memory.random_access()\n",
    "            input_states[i] = s.copy()\n",
    "            target = self.model.predict(np.expand_dims(s, 0))[0]\n",
    "            if game_over:\n",
    "                ######## FILL IN\n",
    "                target[a] = r\n",
    "                #target_q[i, a] = r.copy()\n",
    "            else:\n",
    "                ######## FILL IN\n",
    "                target[a] = r + self.discount * max(self.model.predict(np.expand_dims(n_s, 0))[0])\n",
    "                #target_q[i, a] = (r + self.discount * max(self.model.predict(np.expand_dims(n_s, 0))[0])).copy()\n",
    "            target_q[i, :] = target.copy()\n",
    "            \n",
    "        ######## FILL IN\n",
    "        # HINT: Clip the target to avoid exploiding gradients.. -- clipping is a bit tighter\n",
    "        target_q = np.clip(target_q, -3, 3)\n",
    "        l = self.model.train_on_batch(input_states, target_q)\n",
    "        return l\n",
    "\n",
    "    def save(self,name_weights='model.h5',name_model='model.json'):\n",
    "        self.model.save_weights(name_weights, overwrite=True)\n",
    "        with open(name_model, \"w\") as outfile:\n",
    "            json.dump(self.model.to_json(), outfile)\n",
    "            \n",
    "    def load(self,name_weights='model.h5',name_model='model.json'):\n",
    "        with open(name_model, \"r\") as jfile:\n",
    "            model = model_from_json(json.load(jfile))\n",
    "        model.load_weights(name_weights)\n",
    "        model.compile(\"sgd\", \"mse\")\n",
    "        self.model = model\n",
    "        \n",
    "            \n",
    "class DQN_FC(DQN):\n",
    "    def __init__(self, *args, lr=0.1,**kwargs):\n",
    "        super(DQN_FC, self).__init__( *args,**kwargs)\n",
    "        \n",
    "        # NN Model\n",
    "        \n",
    "        ####### FILL IN\n",
    "        model = Sequential()\n",
    "        model.add(Reshape((5*5*2, ), input_shape = (5, 5, 2)))\n",
    "        model.add(Dense(16, activation = \"relu\"))\n",
    "        model.add(Dense(4, activation = \"linear\"))\n",
    "        model.compile(sgd(lr=lr, decay=1e-4, momentum=0.0), \"mse\")\n",
    "        self.model = model\n",
    "        "
   ]
  },
  {
   "cell_type": "code",
   "execution_count": 12,
   "metadata": {
    "scrolled": false
   },
   "outputs": [
    {
     "name": "stdout",
     "output_type": "stream",
     "text": [
      "Epoch 000/030 | Loss 0.0305 | Win/lose count 4.5/9.0 (-4.5)\n",
      "Epoch 001/030 | Loss 0.0213 | Win/lose count 4.0/10.0 (-6.0)\n",
      "Epoch 002/030 | Loss 0.0081 | Win/lose count 1.5/2.0 (-0.5)\n",
      "Epoch 003/030 | Loss 0.0124 | Win/lose count 5.5/3.0 (2.5)\n",
      "Epoch 004/030 | Loss 0.0178 | Win/lose count 4.0/4.0 (0.0)\n",
      "Epoch 005/030 | Loss 0.0469 | Win/lose count 4.5/6.0 (-1.5)\n",
      "Epoch 006/030 | Loss 0.0174 | Win/lose count 5.5/5.0 (0.5)\n",
      "Epoch 007/030 | Loss 0.0108 | Win/lose count 6.0/2.0 (4.0)\n",
      "Epoch 008/030 | Loss 0.0054 | Win/lose count 2.5/0 (2.5)\n",
      "Epoch 009/030 | Loss 0.0082 | Win/lose count 5.0/5.0 (0.0)\n",
      "Epoch 010/030 | Loss 0.0120 | Win/lose count 4.5/4.0 (0.5)\n",
      "Epoch 011/030 | Loss 0.0061 | Win/lose count 3.5/0 (3.5)\n",
      "Epoch 012/030 | Loss 0.0181 | Win/lose count 1.0/1.0 (0.0)\n",
      "Epoch 013/030 | Loss 0.0628 | Win/lose count 3.0/1.0 (2.0)\n",
      "Epoch 014/030 | Loss 0.0049 | Win/lose count 6.0/5.0 (1.0)\n",
      "Epoch 015/030 | Loss 0.0115 | Win/lose count 7.0/3.0 (4.0)\n",
      "Epoch 016/030 | Loss 0.0039 | Win/lose count 1.5/2.0 (-0.5)\n",
      "Epoch 017/030 | Loss 0.0059 | Win/lose count 6.5/3.0 (3.5)\n",
      "Epoch 018/030 | Loss 0.0999 | Win/lose count 3.5/2.0 (1.5)\n",
      "Epoch 019/030 | Loss 0.0099 | Win/lose count 6.0/3.0 (3.0)\n",
      "Epoch 020/030 | Loss 0.0054 | Win/lose count 7.0/2.0 (5.0)\n",
      "Epoch 021/030 | Loss 0.0035 | Win/lose count 5.0/2.0 (3.0)\n",
      "Epoch 022/030 | Loss 0.0594 | Win/lose count 7.0/4.0 (3.0)\n",
      "Epoch 023/030 | Loss 0.0147 | Win/lose count 3.0/6.0 (-3.0)\n",
      "Epoch 024/030 | Loss 0.0054 | Win/lose count 3.5/0 (3.5)\n",
      "Epoch 025/030 | Loss 0.0053 | Win/lose count 8.0/2.0 (6.0)\n",
      "Epoch 026/030 | Loss 0.0091 | Win/lose count 2.5/5.0 (-2.5)\n",
      "Epoch 027/030 | Loss 0.0044 | Win/lose count 5.5/4.0 (1.5)\n",
      "Epoch 028/030 | Loss 0.0023 | Win/lose count 6.0/2.0 (4.0)\n",
      "Epoch 029/030 | Loss 0.0566 | Win/lose count 3.5/3.0 (0.5)\n"
     ]
    },
    {
     "data": {
      "text/html": [
       "<video alt=\"test\" controls>\n",
       "                <source src=\"data:video/mp4;base64,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\" type=\"video/mp4\" />\n",
       "             </video>"
      ],
      "text/plain": [
       "<IPython.core.display.HTML object>"
      ]
     },
     "execution_count": 12,
     "metadata": {},
     "output_type": "execute_result"
    }
   ],
   "source": [
    "env = Environment(grid_size=size, max_time=T, temperature=0.3)\n",
    "agent = DQN_FC(size, lr=.1, epsilon = 0.1, memory_size=2000, batch_size = 32)\n",
    "train(agent, env, epochs_train, prefix='fc_train')\n",
    "HTML(display_videos('fc_train30.mp4'))"
   ]
  },
  {
   "cell_type": "markdown",
   "metadata": {},
   "source": [
    "***\n",
    "***\n",
    "__Question 8__ Implement the DQN training algorithm using a CNN (for example, 2 convolutional layers and one final fully connected layer)."
   ]
  },
  {
   "cell_type": "code",
   "execution_count": 13,
   "metadata": {},
   "outputs": [],
   "source": [
    "from keras.layers import Flatten\n",
    "\n",
    "class DQN_CNN(DQN):\n",
    "    def __init__(self, *args,lr=0.1,**kwargs):\n",
    "        super(DQN_CNN, self).__init__(*args,**kwargs)\n",
    "        \n",
    "        ###### FILL IN\n",
    "        model = Sequential()\n",
    "        model.add(Conv2D(16, (3, 3), input_shape = (5, 5, 2), activation = 'relu'))\n",
    "        model.add(Conv2D(8, (3, 3), activation = 'relu'))\n",
    "        model.add(Flatten())\n",
    "        model.add(Dense(16, activation = \"relu\"))\n",
    "        model.add(Dense(4, activation = \"linear\"))\n",
    "        model.compile(sgd(lr=lr, decay=1e-4, momentum=0.0), \"mse\")\n",
    "        self.model = model"
   ]
  },
  {
   "cell_type": "code",
   "execution_count": 14,
   "metadata": {},
   "outputs": [
    {
     "name": "stdout",
     "output_type": "stream",
     "text": [
      "Epoch 000/030 | Loss 0.0085 | Win/lose count 2.0/6.0 (-4.0)\n",
      "Epoch 001/030 | Loss 0.0014 | Win/lose count 2.0/1.0 (1.0)\n",
      "Epoch 002/030 | Loss 0.0032 | Win/lose count 3.0/4.0 (-1.0)\n",
      "Epoch 003/030 | Loss 0.0015 | Win/lose count 5.5/7.0 (-1.5)\n",
      "Epoch 004/030 | Loss 0.0009 | Win/lose count 5.5/5.0 (0.5)\n",
      "Epoch 005/030 | Loss 0.0110 | Win/lose count 6.5/4.0 (2.5)\n",
      "Epoch 006/030 | Loss 0.0062 | Win/lose count 4.0/2.0 (2.0)\n",
      "Epoch 007/030 | Loss 0.0164 | Win/lose count 4.0/2.0 (2.0)\n",
      "Epoch 008/030 | Loss 0.0123 | Win/lose count 2.5/3.0 (-0.5)\n",
      "Epoch 009/030 | Loss 0.0064 | Win/lose count 5.0/4.0 (1.0)\n",
      "Epoch 010/030 | Loss 0.0150 | Win/lose count 2.5/2.0 (0.5)\n",
      "Epoch 011/030 | Loss 0.0022 | Win/lose count 3.5/0 (3.5)\n",
      "Epoch 012/030 | Loss 0.0065 | Win/lose count 4.5/6.0 (-1.5)\n",
      "Epoch 013/030 | Loss 0.0071 | Win/lose count 3.5/7.0 (-3.5)\n",
      "Epoch 014/030 | Loss 0.0057 | Win/lose count 2.0/2.0 (0.0)\n",
      "Epoch 015/030 | Loss 0.0011 | Win/lose count 4.5/4.0 (0.5)\n",
      "Epoch 016/030 | Loss 0.0020 | Win/lose count 3.0/2.0 (1.0)\n",
      "Epoch 017/030 | Loss 0.0075 | Win/lose count 5.0/3.0 (2.0)\n",
      "Epoch 018/030 | Loss 0.0081 | Win/lose count 5.0/3.0 (2.0)\n",
      "Epoch 019/030 | Loss 0.0019 | Win/lose count 3.0/2.0 (1.0)\n",
      "Epoch 020/030 | Loss 0.0013 | Win/lose count 2.5/3.0 (-0.5)\n",
      "Epoch 021/030 | Loss 0.0222 | Win/lose count 2.0/4.0 (-2.0)\n",
      "Epoch 022/030 | Loss 0.0050 | Win/lose count 3.0/3.0 (0.0)\n",
      "Epoch 023/030 | Loss 0.0197 | Win/lose count 3.0/3.0 (0.0)\n",
      "Epoch 024/030 | Loss 0.0064 | Win/lose count 3.0/4.0 (-1.0)\n",
      "Epoch 025/030 | Loss 0.0007 | Win/lose count 5.0/0 (5.0)\n",
      "Epoch 026/030 | Loss 0.0066 | Win/lose count 0/1.0 (-1.0)\n",
      "Epoch 027/030 | Loss 0.0065 | Win/lose count 8.5/2.0 (6.5)\n",
      "Epoch 028/030 | Loss 0.0027 | Win/lose count 1.5/3.0 (-1.5)\n",
      "Epoch 029/030 | Loss 0.0012 | Win/lose count 0.5/2.0 (-1.5)\n"
     ]
    },
    {
     "ename": "FileNotFoundError",
     "evalue": "[Errno 2] No such file or directory: 'cnn_train30.mp4'",
     "output_type": "error",
     "traceback": [
      "\u001b[1;31m---------------------------------------------------------------------------\u001b[0m",
      "\u001b[1;31mFileNotFoundError\u001b[0m                         Traceback (most recent call last)",
      "\u001b[1;32m<ipython-input-14-b76023630a9f>\u001b[0m in \u001b[0;36m<module>\u001b[1;34m\u001b[0m\n\u001b[0;32m      2\u001b[0m \u001b[0magent\u001b[0m \u001b[1;33m=\u001b[0m \u001b[0mDQN_CNN\u001b[0m\u001b[1;33m(\u001b[0m\u001b[0msize\u001b[0m\u001b[1;33m,\u001b[0m \u001b[0mlr\u001b[0m\u001b[1;33m=\u001b[0m\u001b[1;36m.1\u001b[0m\u001b[1;33m,\u001b[0m \u001b[0mepsilon\u001b[0m \u001b[1;33m=\u001b[0m \u001b[1;36m0.1\u001b[0m\u001b[1;33m,\u001b[0m \u001b[0mmemory_size\u001b[0m\u001b[1;33m=\u001b[0m\u001b[1;36m2000\u001b[0m\u001b[1;33m,\u001b[0m \u001b[0mbatch_size\u001b[0m \u001b[1;33m=\u001b[0m \u001b[1;36m32\u001b[0m\u001b[1;33m)\u001b[0m\u001b[1;33m\u001b[0m\u001b[1;33m\u001b[0m\u001b[0m\n\u001b[0;32m      3\u001b[0m \u001b[0mtrain\u001b[0m\u001b[1;33m(\u001b[0m\u001b[0magent\u001b[0m\u001b[1;33m,\u001b[0m\u001b[0menv\u001b[0m\u001b[1;33m,\u001b[0m\u001b[0mepochs_train\u001b[0m\u001b[1;33m,\u001b[0m\u001b[0mprefix\u001b[0m\u001b[1;33m=\u001b[0m\u001b[1;34m'cnn_train'\u001b[0m\u001b[1;33m)\u001b[0m\u001b[1;33m\u001b[0m\u001b[1;33m\u001b[0m\u001b[0m\n\u001b[1;32m----> 4\u001b[1;33m \u001b[0mHTML\u001b[0m\u001b[1;33m(\u001b[0m\u001b[0mdisplay_videos\u001b[0m\u001b[1;33m(\u001b[0m\u001b[1;34m'cnn_train30.mp4'\u001b[0m\u001b[1;33m)\u001b[0m\u001b[1;33m)\u001b[0m\u001b[1;33m\u001b[0m\u001b[1;33m\u001b[0m\u001b[0m\n\u001b[0m",
      "\u001b[1;32m<ipython-input-5-234b0811cdda>\u001b[0m in \u001b[0;36mdisplay_videos\u001b[1;34m(name)\u001b[0m\n\u001b[0;32m      8\u001b[0m \u001b[1;31m# display videos\u001b[0m\u001b[1;33m\u001b[0m\u001b[1;33m\u001b[0m\u001b[1;33m\u001b[0m\u001b[0m\n\u001b[0;32m      9\u001b[0m \u001b[1;32mdef\u001b[0m \u001b[0mdisplay_videos\u001b[0m\u001b[1;33m(\u001b[0m\u001b[0mname\u001b[0m\u001b[1;33m)\u001b[0m\u001b[1;33m:\u001b[0m\u001b[1;33m\u001b[0m\u001b[1;33m\u001b[0m\u001b[0m\n\u001b[1;32m---> 10\u001b[1;33m     \u001b[0mvideo\u001b[0m \u001b[1;33m=\u001b[0m \u001b[0mio\u001b[0m\u001b[1;33m.\u001b[0m\u001b[0mopen\u001b[0m\u001b[1;33m(\u001b[0m\u001b[0mname\u001b[0m\u001b[1;33m,\u001b[0m \u001b[1;34m'r+b'\u001b[0m\u001b[1;33m)\u001b[0m\u001b[1;33m.\u001b[0m\u001b[0mread\u001b[0m\u001b[1;33m(\u001b[0m\u001b[1;33m)\u001b[0m\u001b[1;33m\u001b[0m\u001b[1;33m\u001b[0m\u001b[0m\n\u001b[0m\u001b[0;32m     11\u001b[0m     \u001b[0mencoded\u001b[0m \u001b[1;33m=\u001b[0m \u001b[0mbase64\u001b[0m\u001b[1;33m.\u001b[0m\u001b[0mb64encode\u001b[0m\u001b[1;33m(\u001b[0m\u001b[0mvideo\u001b[0m\u001b[1;33m)\u001b[0m\u001b[1;33m\u001b[0m\u001b[1;33m\u001b[0m\u001b[0m\n\u001b[0;32m     12\u001b[0m     return '''<video alt=\"test\" controls>\n",
      "\u001b[1;31mFileNotFoundError\u001b[0m: [Errno 2] No such file or directory: 'cnn_train30.mp4'"
     ]
    }
   ],
   "source": [
    "env = Environment(grid_size=size, max_time=T, temperature=0.3)\n",
    "agent = DQN_CNN(size, lr=.1, epsilon = 0.1, memory_size=2000, batch_size = 32)\n",
    "train(agent,env,epochs_train,prefix='cnn_train')\n",
    "HTML(display_videos('cnn_train30.mp4'))"
   ]
  },
  {
   "cell_type": "markdown",
   "metadata": {},
   "source": [
    "***\n",
    "***\n",
    "__Question 9__ Test both algorithms and compare their performances. Which issue(s) do you observe? Observe also different behaviors by changing the temperature."
   ]
  },
  {
   "cell_type": "code",
   "execution_count": 15,
   "metadata": {},
   "outputs": [
    {
     "name": "stdout",
     "output_type": "stream",
     "text": [
      "Test of the CNN\n",
      "Win/lose count 3.0/1.0. Average score (2.0)\n",
      "Win/lose count 4.5/1.0. Average score (2.75)\n",
      "Win/lose count 8.0/2.0. Average score (3.8333333333333335)\n",
      "Win/lose count 5.5/6.0. Average score (2.75)\n",
      "Win/lose count 2.5/5.0. Average score (1.7)\n",
      "Win/lose count 2.0/1.0. Average score (1.5833333333333333)\n",
      "Win/lose count 5.5/2.0. Average score (1.8571428571428572)\n",
      "Win/lose count 5.0/6.0. Average score (1.5)\n",
      "Win/lose count 6.5/6.0. Average score (1.3888888888888888)\n",
      "Win/lose count 8.0/2.0. Average score (1.85)\n",
      "Final score: 1.85\n",
      "Test of the FC\n",
      "Win/lose count 3.0/9.0. Average score (-6.0)\n",
      "Win/lose count 4.0/5.0. Average score (-3.5)\n",
      "Win/lose count 3.5/5.0. Average score (-2.8333333333333335)\n",
      "Win/lose count 2.5/2.0. Average score (-2.0)\n",
      "Win/lose count 3.5/2.0. Average score (-1.3)\n",
      "Win/lose count 2.5/4.0. Average score (-1.3333333333333333)\n",
      "Win/lose count 2.0/1.0. Average score (-1.0)\n",
      "Win/lose count 1.5/5.0. Average score (-1.3125)\n",
      "Win/lose count 1.0/2.0. Average score (-1.2777777777777777)\n",
      "Win/lose count 4.0/4.0. Average score (-1.15)\n",
      "Final score: -1.15\n"
     ]
    }
   ],
   "source": [
    "env = Environment(grid_size=size, max_time=T,temperature=0.3)\n",
    "agent_cnn = DQN_CNN(size, lr=.1, epsilon = 0.1, memory_size=2000, batch_size = 32)\n",
    "agent_cnn.load(name_weights='cnn_trainmodel.h5',name_model='cnn_trainmodel.json')\n",
    "\n",
    "agent_fc = DQN_FC(size, lr=.1, epsilon = 0.1, memory_size=2000, batch_size = 32)\n",
    "agent_cnn.load(name_weights='fc_trainmodel.h5',name_model='fc_trainmodel.json')\n",
    "print('Test of the CNN')\n",
    "test(agent_cnn,env,epochs_test,prefix='cnn_test')\n",
    "print('Test of the FC')\n",
    "test(agent_fc,env,epochs_test,prefix='fc_test')"
   ]
  },
  {
   "cell_type": "code",
   "execution_count": 16,
   "metadata": {},
   "outputs": [
    {
     "ename": "FileNotFoundError",
     "evalue": "[Errno 2] No such file or directory: 'cnn_test10.mp4'",
     "output_type": "error",
     "traceback": [
      "\u001b[1;31m---------------------------------------------------------------------------\u001b[0m",
      "\u001b[1;31mFileNotFoundError\u001b[0m                         Traceback (most recent call last)",
      "\u001b[1;32m<ipython-input-16-6258079ce82e>\u001b[0m in \u001b[0;36m<module>\u001b[1;34m\u001b[0m\n\u001b[1;32m----> 1\u001b[1;33m \u001b[0mHTML\u001b[0m\u001b[1;33m(\u001b[0m\u001b[0mdisplay_videos\u001b[0m\u001b[1;33m(\u001b[0m\u001b[1;34m'cnn_test10.mp4'\u001b[0m\u001b[1;33m)\u001b[0m\u001b[1;33m)\u001b[0m\u001b[1;33m\u001b[0m\u001b[1;33m\u001b[0m\u001b[0m\n\u001b[0m",
      "\u001b[1;32m<ipython-input-5-234b0811cdda>\u001b[0m in \u001b[0;36mdisplay_videos\u001b[1;34m(name)\u001b[0m\n\u001b[0;32m      8\u001b[0m \u001b[1;31m# display videos\u001b[0m\u001b[1;33m\u001b[0m\u001b[1;33m\u001b[0m\u001b[1;33m\u001b[0m\u001b[0m\n\u001b[0;32m      9\u001b[0m \u001b[1;32mdef\u001b[0m \u001b[0mdisplay_videos\u001b[0m\u001b[1;33m(\u001b[0m\u001b[0mname\u001b[0m\u001b[1;33m)\u001b[0m\u001b[1;33m:\u001b[0m\u001b[1;33m\u001b[0m\u001b[1;33m\u001b[0m\u001b[0m\n\u001b[1;32m---> 10\u001b[1;33m     \u001b[0mvideo\u001b[0m \u001b[1;33m=\u001b[0m \u001b[0mio\u001b[0m\u001b[1;33m.\u001b[0m\u001b[0mopen\u001b[0m\u001b[1;33m(\u001b[0m\u001b[0mname\u001b[0m\u001b[1;33m,\u001b[0m \u001b[1;34m'r+b'\u001b[0m\u001b[1;33m)\u001b[0m\u001b[1;33m.\u001b[0m\u001b[0mread\u001b[0m\u001b[1;33m(\u001b[0m\u001b[1;33m)\u001b[0m\u001b[1;33m\u001b[0m\u001b[1;33m\u001b[0m\u001b[0m\n\u001b[0m\u001b[0;32m     11\u001b[0m     \u001b[0mencoded\u001b[0m \u001b[1;33m=\u001b[0m \u001b[0mbase64\u001b[0m\u001b[1;33m.\u001b[0m\u001b[0mb64encode\u001b[0m\u001b[1;33m(\u001b[0m\u001b[0mvideo\u001b[0m\u001b[1;33m)\u001b[0m\u001b[1;33m\u001b[0m\u001b[1;33m\u001b[0m\u001b[0m\n\u001b[0;32m     12\u001b[0m     return '''<video alt=\"test\" controls>\n",
      "\u001b[1;31mFileNotFoundError\u001b[0m: [Errno 2] No such file or directory: 'cnn_test10.mp4'"
     ]
    }
   ],
   "source": [
    "HTML(display_videos('cnn_test10.mp4'))"
   ]
  },
  {
   "cell_type": "code",
   "execution_count": null,
   "metadata": {},
   "outputs": [],
   "source": [
    "HTML(display_videos('fc_test10.mp4'))"
   ]
  },
  {
   "cell_type": "markdown",
   "metadata": {},
   "source": []
  },
  {
   "cell_type": "markdown",
   "metadata": {},
   "source": [
    "***\n",
    "\n",
    "The algorithm tends to not explore the map which can be an issue. We propose two ideas in order to encourage exploration:\n",
    "1. Incorporating a decreasing $\\epsilon$-greedy exploration. You can use the method ```set_epsilon```\n",
    "2. Append via the environment a new state that describes if a cell has been visited or not\n",
    "\n",
    "***\n",
    "__Question 10__ Design a new ```train_explore``` function and environment class ```EnvironmentExploring``` to tackle the issue of exploration.\n",
    "\n"
   ]
  },
  {
   "cell_type": "code",
   "execution_count": null,
   "metadata": {},
   "outputs": [],
   "source": [
    "def train_explore(agent,env,epoch,prefix=''):\n",
    "    pass\n",
    "        \n",
    "class EnvironmentExploring(object):\n",
    "    def __init__(self, grid_size=10, max_time=500, temperature=0.1):\n",
    "        pass\n",
    "    \n",
    "## use those samples of code:\n",
    "#In train explore:\n",
    "state, reward, game_over = env.act(action, train=True)\n",
    "\n",
    "## In Environment exploring:\n",
    "# You will have to change n_state to 3 because you will use one more layer!\n",
    "reward = 0\n",
    "if train:\n",
    "    reward = -self.malus_position[self.x, self.y]\n",
    "self.malus_position[self.x, self.y] = 0.1\n",
    "\n",
    "reward = reward + self.board[self.x, self.y]\n",
    "# 3 \"feature\" states instead of 2\n",
    "state = np.concatenate((self.malus_position.reshape(self.grid_size, self.grid_size,1),\n",
    "                                self.board.reshape(self.grid_size, self.grid_size,1),\n",
    "                        self.position.reshape(self.grid_size, self.grid_size,1)),axis=2)"
   ]
  },
  {
   "cell_type": "code",
   "execution_count": null,
   "metadata": {},
   "outputs": [],
   "source": [
    "# Training\n",
    "env = EnvironmentExploring(grid_size=size, max_time=T, temperature=0.3)\n",
    "agent = DQN_CNN(size, lr=.1, epsilon = 0.1, memory_size=2000, batch_size = 32,n_state=3)\n",
    "train_explore(agent, env, epochs_train, prefix='cnn_train_explore')\n",
    "HTML(display_videos('cnn_train_explore10.mp4'))"
   ]
  },
  {
   "cell_type": "code",
   "execution_count": null,
   "metadata": {},
   "outputs": [],
   "source": [
    "# Evaluation\n",
    "test(agent,env,epochs_test,prefix='cnn_test_explore')\n",
    "HTML(display_videos('cnn_test_explore10.mp4'))"
   ]
  },
  {
   "cell_type": "markdown",
   "metadata": {},
   "source": [
    "***\n",
    "***\n",
    "__BONUS question__ Use the expert DQN from the previous question to generate some winning games. Train a model that mimicks its behavior. Compare the performances."
   ]
  },
  {
   "cell_type": "markdown",
   "metadata": {},
   "source": []
  },
  {
   "cell_type": "markdown",
   "metadata": {},
   "source": [
    "***"
   ]
  }
 ],
 "metadata": {
  "kernelspec": {
   "display_name": "Python 3",
   "language": "python",
   "name": "python3"
  },
  "language_info": {
   "codemirror_mode": {
    "name": "ipython",
    "version": 3
   },
   "file_extension": ".py",
   "mimetype": "text/x-python",
   "name": "python",
   "nbconvert_exporter": "python",
   "pygments_lexer": "ipython3",
   "version": "3.6.7"
  }
 },
 "nbformat": 4,
 "nbformat_minor": 2
}
